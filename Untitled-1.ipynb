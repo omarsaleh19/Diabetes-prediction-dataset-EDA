{
 "cells": [
  {
   "cell_type": "markdown",
   "id": "6a49a6d1",
   "metadata": {},
   "source": [
    " data visualization"
   ]
  },
  {
   "cell_type": "code",
   "execution_count": null,
   "id": "92957c40",
   "metadata": {},
   "outputs": [],
   "source": []
  },
  {
   "cell_type": "markdown",
   "id": "64b1c66e",
   "metadata": {},
   "source": [
    "data manipulation"
   ]
  },
  {
   "cell_type": "code",
   "execution_count": null,
   "id": "0fe71d76",
   "metadata": {},
   "outputs": [],
   "source": []
  },
  {
   "cell_type": "markdown",
   "id": "7d55f390",
   "metadata": {},
   "source": [
    "correlation"
   ]
  },
  {
   "cell_type": "code",
   "execution_count": null,
   "id": "994bcd4a",
   "metadata": {},
   "outputs": [],
   "source": []
  },
  {
   "cell_type": "code",
   "execution_count": null,
   "id": "fd266e1a",
   "metadata": {},
   "outputs": [],
   "source": []
  }
 ],
 "metadata": {
  "language_info": {
   "name": "python"
  }
 },
 "nbformat": 4,
 "nbformat_minor": 5
}
